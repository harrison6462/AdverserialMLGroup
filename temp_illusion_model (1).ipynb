{
 "cells": [
  {
   "cell_type": "markdown",
   "metadata": {
    "id": "9XHd5ExbUIUg"
   },
   "source": [
    "Copied main code from https://medium.com/dair-ai/pytorch-1-2-quickstart-with-google-colab-6690a30c38d - includes jupyter notbeook"
   ]
  },
  {
   "cell_type": "markdown",
   "metadata": {
    "id": "uF1P_cRoWpvM"
   },
   "source": [
    "Importing relevant packages -- pytorch"
   ]
  },
  {
   "cell_type": "code",
   "execution_count": 1,
   "metadata": {
    "id": "Su0COdCqT2Wk"
   },
   "outputs": [],
   "source": [
    "import torch\n",
    "import torch.nn as nn\n",
    "import torch.nn.functional as F\n",
    "import torchvision\n",
    "import torchvision.transforms as transforms\n",
    "\n",
    "import numpy as np \n",
    "import gzip\n",
    "import matplotlib.pyplot as plt"
   ]
  },
  {
   "cell_type": "code",
   "execution_count": 2,
   "metadata": {
    "colab": {
     "base_uri": "https://localhost:8080/"
    },
    "id": "rXCYmmjyVRq5",
    "outputId": "79dd79e3-52c5-406f-b786-eacf24d736da"
   },
   "outputs": [
    {
     "name": "stdout",
     "output_type": "stream",
     "text": [
      "1.9.1\n"
     ]
    }
   ],
   "source": [
    "print(torch.__version__)"
   ]
  },
  {
   "cell_type": "markdown",
   "metadata": {},
   "source": [
    "Checking whether GPU is available using Pytorch"
   ]
  },
  {
   "cell_type": "code",
   "execution_count": 3,
   "metadata": {
    "id": "KzsiN3l_Vy1p"
   },
   "outputs": [
    {
     "name": "stdout",
     "output_type": "stream",
     "text": [
      "True\n",
      "4\n"
     ]
    }
   ],
   "source": [
    "print(torch.cuda.is_available())\n",
    "print(torch.cuda.device_count())"
   ]
  },
  {
   "cell_type": "markdown",
   "metadata": {
    "id": "hhuQyU7AYE6K"
   },
   "source": [
    "## Import The Data"
   ]
  },
  {
   "cell_type": "markdown",
   "metadata": {},
   "source": [
    "### Import Labels\n",
    "Reading in array with training labels using labels from MNIST directly \n",
    "\n",
    "https://stackoverflow.com/questions/40427435/extract-images-from-idx3-ubyte-file-or-gzip-via-python"
   ]
  },
  {
   "cell_type": "code",
   "execution_count": 4,
   "metadata": {},
   "outputs": [],
   "source": [
    "train_labels = np.empty(60000) #we know there are 60000 training images \n",
    "test_labels = np.empty(10000) #we know there are 10000 testing images "
   ]
  },
  {
   "cell_type": "code",
   "execution_count": 5,
   "metadata": {},
   "outputs": [
    {
     "name": "stdout",
     "output_type": "stream",
     "text": [
      "(60000,)\n",
      "(10000,)\n"
     ]
    }
   ],
   "source": [
    "print(train_labels.shape)\n",
    "print(test_labels.shape)"
   ]
  },
  {
   "cell_type": "code",
   "execution_count": 6,
   "metadata": {},
   "outputs": [
    {
     "data": {
      "text/plain": [
       "4.0474e-320"
      ]
     },
     "execution_count": 6,
     "metadata": {},
     "output_type": "execute_result"
    }
   ],
   "source": [
    "train_labels[0]"
   ]
  },
  {
   "cell_type": "code",
   "execution_count": 7,
   "metadata": {},
   "outputs": [],
   "source": [
    "f = gzip.open('labels/train-labels-idx1-ubyte.gz','r')\n",
    "f.read(8)\n",
    "for i in range(0,len(train_labels)):   \n",
    "    buf = f.read(1)\n",
    "    labels = np.frombuffer(buf, dtype=np.uint8).astype(np.int64)\n",
    "    train_labels[i] = labels[0]"
   ]
  },
  {
   "cell_type": "code",
   "execution_count": 8,
   "metadata": {},
   "outputs": [],
   "source": [
    "f = gzip.open('labels/t10k-labels-idx1-ubyte.gz','r')\n",
    "f.read(8)\n",
    "for i in range(0,len(test_labels)):   \n",
    "    buf = f.read(1)\n",
    "    labels = np.frombuffer(buf, dtype=np.uint8).astype(np.int64)\n",
    "    test_labels[i] = labels[0]"
   ]
  },
  {
   "cell_type": "code",
   "execution_count": 30,
   "metadata": {},
   "outputs": [],
   "source": [
    "train_labels = train_labels.astype(np.long)\n",
    "test_labels = test_labels.astype(np.long)"
   ]
  },
  {
   "cell_type": "code",
   "execution_count": 31,
   "metadata": {},
   "outputs": [
    {
     "name": "stdout",
     "output_type": "stream",
     "text": [
      "[5 0 4 ... 5 6 8]\n",
      "[7 2 1 ... 4 5 6]\n"
     ]
    }
   ],
   "source": [
    "print(train_labels)\n",
    "print(test_labels)"
   ]
  },
  {
   "cell_type": "code",
   "execution_count": 32,
   "metadata": {},
   "outputs": [
    {
     "data": {
      "text/plain": [
       "60000"
      ]
     },
     "execution_count": 32,
     "metadata": {},
     "output_type": "execute_result"
    }
   ],
   "source": [
    "len(train_labels)"
   ]
  },
  {
   "cell_type": "markdown",
   "metadata": {
    "id": "UKhwB8fotuwJ"
   },
   "source": [
    "### Custom Dataset\n",
    "Might need to transform data using the `transforms` module\n",
    "\n",
    "Created own Dataset class for illusion images specifically - Pytorch uses DataLoaders and Datasets to organize data \n",
    "\n",
    "assuming images are in directory `img_dir` and labels are pre-processed and read into array `labels_arr`\n",
    "\n",
    "Code from https://pytorch.org/tutorials/beginner/basics/data_tutorial.html"
   ]
  },
  {
   "cell_type": "code",
   "execution_count": 33,
   "metadata": {
    "id": "HJ_BITTCqV-k"
   },
   "outputs": [],
   "source": [
    "import pandas as pd\n",
    "from torch.utils.data import Dataset\n",
    "from torchvision.io import read_image\n",
    "import os\n",
    "\n",
    "class IllusionDataset(Dataset): \n",
    "    def __init__(self, labels_arr, img_dir, transform=None, target_transform=None):\n",
    "      self.img_labels = labels_arr #labels are in a numpy array \n",
    "      self.img_dir = img_dir\n",
    "      self.transform = transform\n",
    "      self.target_transform = target_transform \n",
    "\n",
    "    def __len__(self): \n",
    "      return len(self.img_labels)\n",
    "      #returns hum. instances in dataset \n",
    "    \n",
    "    #loads and returns sample from dataset at given index\n",
    "    def __getitem__(self, idx): #images are labeled from 0 to length(labels) \n",
    "      img_path = os.path.join(self.img_dir, str(idx)+\".jpg\") #finds the location of given image based on index (which is image name)\n",
    "      image = torch.from_numpy(read_image(img_path).numpy().astype(np.float32)) #converts to tensor \n",
    "        \n",
    "      label = self.img_labels[idx] #finds label from array of labels  \n",
    "      if self.transform: \n",
    "        image = self.transform(image) #apply transformations \n",
    "      if self.target_transform: \n",
    "        label = self.target_transform(label)\n",
    "      return image, label #returns tuple of image and label "
   ]
  },
  {
   "cell_type": "code",
   "execution_count": 34,
   "metadata": {},
   "outputs": [],
   "source": [
    "train_path = \"illusionmnist\"\n",
    "test_path = \"illusionmnisttest\"\n",
    "\n",
    "train_dataset = IllusionDataset(train_labels, train_path)\n",
    "test_dataset = IllusionDataset(test_labels, test_path)"
   ]
  },
  {
   "cell_type": "code",
   "execution_count": 35,
   "metadata": {
    "id": "VfpgHAHvvUvH"
   },
   "outputs": [],
   "source": [
    "from torch.utils.data import DataLoader\n",
    "\n",
    "train_dataloader = DataLoader(train_dataset, batch_size=64, shuffle=True)\n",
    "test_dataloader = DataLoader(test_dataset, batch_size=64, shuffle=True)"
   ]
  },
  {
   "cell_type": "code",
   "execution_count": 36,
   "metadata": {},
   "outputs": [
    {
     "name": "stdout",
     "output_type": "stream",
     "text": [
      "Feature batch shape: torch.Size([64, 1, 128, 128])\n",
      "Labels batch shape: torch.Size([64])\n"
     ]
    },
    {
     "data": {
      "image/png": "[encoded data removed]",
      "text/plain": [
       "<Figure size 432x288 with 1 Axes>"
      ]
     },
     "metadata": {
      "needs_background": "light"
     },
     "output_type": "display_data"
    },
    {
     "name": "stdout",
     "output_type": "stream",
     "text": [
      "Label: 1\n"
     ]
    }
   ],
   "source": [
    "# Display image and label.\n",
    "train_features, train_labelss = next(iter(train_dataloader))\n",
    "print(f\"Feature batch shape: {train_features.size()}\")\n",
    "print(f\"Labels batch shape: {train_labelss.size()}\")\n",
    "img = train_features[3].squeeze()\n",
    "label = train_labelss[3]\n",
    "plt.imshow(img, cmap=\"gray\")\n",
    "plt.show()\n",
    "print(f\"Label: {label}\")"
   ]
  },
  {
   "cell_type": "code",
   "execution_count": 37,
   "metadata": {},
   "outputs": [
    {
     "data": {
      "text/plain": [
       "tensor([[  1.,   0.,   0.,  ...,   0.,   0.,   0.],\n",
       "        [  0.,   0.,   1.,  ...,   0.,   3.,   0.],\n",
       "        [255.,   2.,   0.,  ..., 255.,   0.,   3.],\n",
       "        ...,\n",
       "        [  0.,   1.,   0.,  ..., 254.,   2.,   0.],\n",
       "        [  2.,   0.,   2.,  ...,   3.,   0.,   1.],\n",
       "        [  0.,   0.,   0.,  ...,   1.,   0.,   0.]])"
      ]
     },
     "execution_count": 37,
     "metadata": {},
     "output_type": "execute_result"
    }
   ],
   "source": [
    "img"
   ]
  },
  {
   "cell_type": "markdown",
   "metadata": {
    "id": "0nZwZukWXUDn"
   },
   "source": [
    "## Exploring the Data **from original notebook\n"
   ]
  },
  {
   "cell_type": "markdown",
   "metadata": {
    "id": "NW_loWKga7CH"
   },
   "source": [
    "Let's check what the train and test dataset contains. I will use `matplotlib` to print out some of the images from our dataset. "
   ]
  },
  {
   "cell_type": "code",
   "execution_count": 38,
   "metadata": {
    "colab": {
     "base_uri": "https://localhost:8080/",
     "height": 220
    },
    "id": "zWd9Pt1Ca6K9",
    "outputId": "b3322ebe-3c2f-4f14-e1e8-6669c2178492"
   },
   "outputs": [
    {
     "name": "stderr",
     "output_type": "stream",
     "text": [
      "Clipping input data to the valid range for imshow with RGB data ([0..1] for floats or [0..255] for integers).\n"
     ]
    },
    {
     "data": {
      "image/png": "[encoded data removed]",
      "text/plain": [
       "<Figure size 432x288 with 1 Axes>"
      ]
     },
     "metadata": {
      "needs_background": "light"
     },
     "output_type": "display_data"
    }
   ],
   "source": [
    "import matplotlib.pyplot as plt\n",
    "import numpy as np\n",
    "\n",
    "## functions to show an image\n",
    "def imshow(img):\n",
    "    #img = img / 2 + 0.5     # unnormalize\n",
    "    npimg = img.numpy()\n",
    "    plt.imshow(np.transpose(npimg, (1, 2, 0)))\n",
    "\n",
    "## get some random training images\n",
    "dataiter = iter(train_dataloader)\n",
    "images, labels = dataiter.next()\n",
    "\n",
    "## show images\n",
    "imshow(torchvision.utils.make_grid(images))"
   ]
  },
  {
   "cell_type": "markdown",
   "metadata": {
    "id": "d9mXAVmRvhrq"
   },
   "source": [
    "Let's check the dimensions of a batch."
   ]
  },
  {
   "cell_type": "code",
   "execution_count": 39,
   "metadata": {
    "colab": {
     "base_uri": "https://localhost:8080/"
    },
    "id": "cNFKWz1GZ4R5",
    "outputId": "fa0499c6-26be-4497-a1ee-144138cc1676"
   },
   "outputs": [
    {
     "name": "stdout",
     "output_type": "stream",
     "text": [
      "Image batch dimensions: torch.Size([64, 1, 128, 128])\n",
      "Image label dimensions: torch.Size([64])\n"
     ]
    }
   ],
   "source": [
    "for images, labels in train_dataloader:\n",
    "    print(\"Image batch dimensions:\", images.shape)\n",
    "    print(\"Image label dimensions:\", labels.shape)\n",
    "    break"
   ]
  },
  {
   "cell_type": "markdown",
   "metadata": {
    "id": "tmaCTw5tXowR"
   },
   "source": [
    "## The Model **from original notebook\n",
    "\n",
    "Now using the classical deep learning framework pipeline, let's build the 1 convolutional layer model. \n",
    "\n",
    "Here are a few notes for those who are beginning with PyTorch:\n",
    "- The model below consists of an `__init__()` portion which is where you include the layers and components of the neural network. In our model, we have a convolutional layer denoted by `nn.Conv2d(...)`. We are dealing with an image dataset that is in a grayscale so we only need one channel going in, hence `in_channels=1`. We hope to get a nice representation of this layer, so we use `out_channels=32`. Kernel size is 3, and for the rest of parameters we use the default values which you can find [here](https://pytorch.org/docs/stable/nn.html?highlight=conv2d#conv2d). \n",
    "- We use 2 back to back dense layers or what we refer to as linear transformations to the incoming data. Notice for `d1` I have a dimension which looks like it came out of nowhere. 128 represents the size we want as output and the (`26*26*32`) represents the dimension of the incoming data. If you would like to find out how to calculate those numbers refer to the [PyTorch documentation](https://pytorch.org/docs/stable/nn.html?highlight=linear#conv2d). In short, the convolutional layer transforms the input data into a specific dimension that has to be considered in the linear layer. The same applies for the second linear transformation (`d2`) where the dimension of the output of the previous linear layer was added as `in_features=128`, and `10` is just the size of the output which also corresponds to the number of classes.\n",
    "- After each one of those layers, we also apply an activation function such as `ReLU`. For prediction purposes, we then apply a `softmax` layer to the last transformation and return the output of that.  "
   ]
  },
  {
   "cell_type": "code",
   "execution_count": 55,
   "metadata": {
    "id": "_IYnV4ZBa3cJ"
   },
   "outputs": [],
   "source": [
    "class Model1(nn.Module):\n",
    "    def __init__(self):\n",
    "        super(MyModel, self).__init__()\n",
    "\n",
    "        #128x128x1 => 26x26x32\n",
    "        self.conv1 = nn.Conv2d(in_channels=1, out_channels=32, kernel_size=3)\n",
    "        self.d1 = nn.Linear(126 * 126 * 32, 128)\n",
    "        self.d2 = nn.Linear(128, 10)\n",
    "\n",
    "    def forward(self, x):\n",
    "        # 32x1x28x28 => 32x32x26x26\n",
    "        x = self.conv1(x)\n",
    "        x = F.relu(x)\n",
    "\n",
    "        # flatten => 32 x (32*26*26)\n",
    "        x = x.flatten(start_dim = 1)\n",
    "\n",
    "        # 32 x (32*26*26) => 32x128\n",
    "        x = self.d1(x)\n",
    "        x = F.relu(x)\n",
    "\n",
    "        # logits => 32x10\n",
    "        logits = self.d2(x)\n",
    "        out = F.softmax(logits, dim=1)\n",
    "        return out"
   ]
  },
  {
   "cell_type": "code",
   "execution_count": 80,
   "metadata": {},
   "outputs": [],
   "source": [
    "class MyModel(nn.Module):\n",
    "    def __init__(self):\n",
    "        super(MyModel, self).__init__()\n",
    "\n",
    "        #128x128x1 => 26x26x32\n",
    "        self.conv1 = nn.Conv2d(in_channels=1, out_channels=32, kernel_size=3)\n",
    "        self.max1 = nn.MaxPool2d(kernel_size=3, stride=2)\n",
    "        self.conv2 = nn.Conv2d(in_channels=32, out_channels=64, kernel_size=3, stride=2)\n",
    "        self.max2 = nn.MaxPool2d(kernel_size=3, stride=1) \n",
    "        self.conv3 = nn.Conv2d(in_channels=64, out_channels=128, kernel_size=3)\n",
    "        self.d1 = nn.Linear(26 * 26 * 128, 128)\n",
    "        self.d2 = nn.Linear(128, 10)\n",
    "\n",
    "    def forward(self, x):\n",
    "        # 32x1x28x28 => 32x32x26x26\n",
    "        x = self.conv1(x)\n",
    "        x = F.relu(x)\n",
    "        \n",
    "        x = self.max1(x)\n",
    "        \n",
    "        x = self.conv2(x)\n",
    "        x = F.relu(x) \n",
    "        \n",
    "        x = self.max2(x)\n",
    "        \n",
    "        x = self.conv3(x) \n",
    "        x = F.relu(x)\n",
    "\n",
    "        # flatten => 32 x (32*26*26)\n",
    "        x = x.flatten(start_dim = 1)\n",
    "\n",
    "        # 32 x (32*26*26) => 32x128\n",
    "        x = self.d1(x)\n",
    "        x = F.relu(x)\n",
    "\n",
    "        # logits => 32x10\n",
    "        logits = self.d2(x)\n",
    "        out = F.softmax(logits, dim=1)\n",
    "        return out"
   ]
  },
  {
   "cell_type": "code",
   "execution_count": 81,
   "metadata": {
    "colab": {
     "base_uri": "https://localhost:8080/"
    },
    "id": "1poxFYqftKov",
    "outputId": "ad366227-dbb0-44c9-ec19-3e810534e0fc"
   },
   "outputs": [
    {
     "name": "stdout",
     "output_type": "stream",
     "text": [
      "batch size: torch.Size([64, 1, 128, 128])\n",
      "torch.Size([64, 10])\n"
     ]
    }
   ],
   "source": [
    "## test the model with 1 batch\n",
    "model = MyModel()\n",
    "for images, labels in train_dataloader:\n",
    "    print(\"batch size:\", images.shape)\n",
    "    out = model(images)\n",
    "    print(out.shape)\n",
    "    break"
   ]
  },
  {
   "cell_type": "markdown",
   "metadata": {
    "id": "9h_3eZQRHV_P"
   },
   "source": [
    "## Training the Model **from original notebook\n",
    "Now we are ready to train the model but before that we are going to setup a loss function, an optimizer and a function to compute accuracy of the model. "
   ]
  },
  {
   "cell_type": "code",
   "execution_count": 82,
   "metadata": {},
   "outputs": [
    {
     "name": "stdout",
     "output_type": "stream",
     "text": [
      "cuda:0\n"
     ]
    }
   ],
   "source": [
    "device = torch.device(\"cuda:0\" if torch.cuda.is_available() else \"cpu\")\n",
    "print(device)"
   ]
  },
  {
   "cell_type": "code",
   "execution_count": 88,
   "metadata": {
    "id": "3_0Vjq2RHlph"
   },
   "outputs": [],
   "source": [
    "learning_rate = 0.0015\n",
    "num_epochs = 10\n",
    "model = MyModel()\n",
    "model = model.to(device)\n",
    "criterion = nn.CrossEntropyLoss()\n",
    "optimizer = torch.optim.Adam(model.parameters(), lr=learning_rate)"
   ]
  },
  {
   "cell_type": "code",
   "execution_count": null,
   "metadata": {
    "id": "faZu6PK_LJPY"
   },
   "outputs": [],
   "source": [
    "?torch.cuda"
   ]
  },
  {
   "cell_type": "code",
   "execution_count": 89,
   "metadata": {
    "id": "44IdrNNeIi_I"
   },
   "outputs": [],
   "source": [
    "## compute accuracy\n",
    "def get_accuracy(logit, target, batch_size):\n",
    "    ''' Obtain accuracy for training round '''\n",
    "    corrects = (torch.max(logit, 1)[1].view(target.size()).data == target.data).sum()\n",
    "    accuracy = 100.0 * corrects/batch_size\n",
    "    return accuracy.item()"
   ]
  },
  {
   "cell_type": "markdown",
   "metadata": {
    "id": "nK3EcuIOISSR"
   },
   "source": [
    "Now it's time for training."
   ]
  },
  {
   "cell_type": "code",
   "execution_count": 90,
   "metadata": {},
   "outputs": [],
   "source": [
    "BATCH_SIZE = 64"
   ]
  },
  {
   "cell_type": "code",
   "execution_count": 91,
   "metadata": {
    "colab": {
     "base_uri": "https://localhost:8080/"
    },
    "id": "E59hwZlAIVcL",
    "outputId": "94327f4b-f719-43ca-bbf9-5958354992de"
   },
   "outputs": [
    {
     "name": "stdout",
     "output_type": "stream",
     "text": [
      "Epoch: 0 | Loss: 2.3649 | Train Accuracy: 9.88\n",
      "Epoch: 1 | Loss: 2.3649 | Train Accuracy: 9.88\n",
      "Epoch: 2 | Loss: 2.3650 | Train Accuracy: 9.88\n",
      "Epoch: 3 | Loss: 2.3649 | Train Accuracy: 9.88\n",
      "Epoch: 4 | Loss: 2.3649 | Train Accuracy: 9.88\n",
      "Epoch: 5 | Loss: 2.3650 | Train Accuracy: 9.88\n",
      "Epoch: 6 | Loss: 2.3650 | Train Accuracy: 9.88\n",
      "Epoch: 7 | Loss: 2.3649 | Train Accuracy: 9.88\n",
      "Epoch: 8 | Loss: 2.3650 | Train Accuracy: 9.88\n",
      "Epoch: 9 | Loss: 2.3649 | Train Accuracy: 9.88\n"
     ]
    }
   ],
   "source": [
    "for epoch in range(num_epochs):\n",
    "    train_running_loss = 0.0\n",
    "    train_acc = 0.0\n",
    "\n",
    "    model = model.train()\n",
    "\n",
    "    ## training step\n",
    "    for i, (images, labels) in enumerate(train_dataloader):\n",
    "        \n",
    "        images = images.to(device)\n",
    "        labels = labels.to(device)\n",
    "\n",
    "        ## forward + backprop + loss\n",
    "        logits = model(images)\n",
    "        loss = criterion(logits, labels)\n",
    "        optimizer.zero_grad()\n",
    "        loss.backward()\n",
    "\n",
    "        ## update model params\n",
    "        optimizer.step()\n",
    "\n",
    "        train_running_loss += loss.detach().item()\n",
    "        train_acc += get_accuracy(logits, labels, BATCH_SIZE)\n",
    "    \n",
    "    model.eval()\n",
    "    print('Epoch: %d | Loss: %.4f | Train Accuracy: %.2f' \\\n",
    "          %(epoch, train_running_loss / i, train_acc/i))        "
   ]
  },
  {
   "cell_type": "markdown",
   "metadata": {
    "id": "QuZxfQc1UIU-"
   },
   "source": [
    "We can also compute accuracy on the testing dataset to see how well the model performs on the image classificaiton task. As you can see below, our basic CNN model is performing very well on the MNIST classification task."
   ]
  },
  {
   "cell_type": "code",
   "execution_count": 92,
   "metadata": {
    "colab": {
     "base_uri": "https://localhost:8080/"
    },
    "id": "YU5WR0BTUHv1",
    "outputId": "d021d5b6-0b3e-4211-ee46-8faa710629cc"
   },
   "outputs": [
    {
     "name": "stdout",
     "output_type": "stream",
     "text": [
      "Test Accuracy: 9.82\n"
     ]
    }
   ],
   "source": [
    "test_acc = 0.0\n",
    "for i, (images, labels) in enumerate(test_dataloader, 0):\n",
    "    images = images.to(device)\n",
    "    labels = labels.to(device)\n",
    "    outputs = model(images)\n",
    "    test_acc += get_accuracy(outputs, labels, BATCH_SIZE)\n",
    "        \n",
    "print('Test Accuracy: %.2f'%( test_acc/i))"
   ]
  },
  {
   "cell_type": "markdown",
   "metadata": {
    "id": "-4z32XLpsOg3"
   },
   "source": [
    "# Testing on Single Illusion Image"
   ]
  },
  {
   "cell_type": "code",
   "execution_count": null,
   "metadata": {
    "id": "L3thwXq6A4Zl"
   },
   "outputs": [],
   "source": [
    "import cv2\n",
    "import numpy as np\n",
    "img = cv2.imread('four.png')\n",
    "img_gray = cv2.cvtColor(img, cv2.COLOR_BGR2GRAY)"
   ]
  },
  {
   "cell_type": "code",
   "execution_count": null,
   "metadata": {
    "colab": {
     "base_uri": "https://localhost:8080/"
    },
    "id": "P25ZVnBKAub4",
    "outputId": "d1217016-e163-42cc-969d-8ca41f9228df"
   },
   "outputs": [
    {
     "name": "stdout",
     "output_type": "stream",
     "text": [
      "tensor([[6.7594e-18, 8.8568e-14, 1.4284e-11, 1.7360e-12, 1.0000e+00, 2.7135e-15,\n",
      "         1.2092e-14, 6.5897e-13, 1.6659e-14, 2.1681e-11]], device='cuda:0',\n",
      "       grad_fn=<SoftmaxBackward>)\n",
      "value predicted: 4\n"
     ]
    }
   ],
   "source": [
    "from PIL import Image\n",
    "from torch.autograd import Variable\n",
    "\n",
    "imsize = 28\n",
    "loader = transforms.Compose([transforms.Resize(imsize), transforms.ToTensor()])\n",
    "#Resize: https://www.projectpro.io/recipes/crop-and-resize-image-pytorch\n",
    "\n",
    "def image_loader(image_name):\n",
    "    \"\"\"load image, returns cuda tensor\"\"\"\n",
    "    image = Image.open(image_name)\n",
    "    image = loader(image).float()\n",
    "    image = Variable(image, requires_grad=True)\n",
    "    image = image.unsqueeze(0)  #this is for VGG, may not be needed for ResNet\n",
    "    return image.cuda()  #assumes that you're using GPU\n",
    "\n",
    "image = image_loader('four_norm.png')\n",
    "\n",
    "#source: https://discuss.pytorch.org/t/how-to-classify-single-image-using-loaded-net/1411/3\n",
    "#http://seba1511.net/tutorials/beginner/examples_autograd/two_layer_net_autograd.html \n",
    "\n",
    "result = model(image)\n",
    "print(result) \n",
    "predict = torch.argmax(result[0])\n",
    "print(\"value predicted:\", torch.Tensor.item(predict))"
   ]
  },
  {
   "cell_type": "code",
   "execution_count": null,
   "metadata": {
    "colab": {
     "base_uri": "https://localhost:8080/"
    },
    "id": "kP1WBF26EkSF",
    "outputId": "3b516af6-5fd5-44ed-dd02-3e06c3818bdc"
   },
   "outputs": [
    {
     "name": "stdout",
     "output_type": "stream",
     "text": [
      "tensor([[0.0963, 0.1242, 0.0915, 0.0934, 0.1009, 0.1106, 0.0970, 0.1023, 0.0905,\n",
      "         0.0933]], device='cuda:0', grad_fn=<SoftmaxBackward>)\n",
      "value predicted: 1\n"
     ]
    }
   ],
   "source": [
    "image2 = image_loader('four.png')\n",
    "\n",
    "result2 = model(image2)\n",
    "print(result2) \n",
    "predict2 = torch.argmax(result2[0])\n",
    "print(\"value predicted:\", torch.Tensor.item(predict2))"
   ]
  },
  {
   "cell_type": "markdown",
   "metadata": {
    "id": "ztAiTq9HcS_H"
   },
   "source": [
    "## References **original notebook\n",
    "- [Building RNNs is Fun with PyTorch and Google Colab](https://colab.research.google.com/drive/1NVuWLZ0cuXPAtwV4Fs2KZ2MNla0dBUas)\n",
    "- [CNN Basics with PyTorch by Sebastian Raschka](https://github.com/rasbt/deeplearning-models/blob/master/pytorch_ipynb/cnn/cnn-basic.ipynb)\n",
    "- [Tensorflow 2.0 Quickstart for experts](https://colab.research.google.com/github/tensorflow/docs/blob/master/site/en/tutorials/quickstart/advanced.ipynb#scrollTo=DUNzJc4jTj6G) "
   ]
  }
 ],
 "metadata": {
  "accelerator": "GPU",
  "colab": {
   "name": "pytorch_quick_start - illusion model.ipynb",
   "provenance": []
  },
  "kernelspec": {
   "display_name": "Python 3",
   "language": "python",
   "name": "python3"
  },
  "language_info": {
   "codemirror_mode": {
    "name": "ipython",
    "version": 3
   },
   "file_extension": ".py",
   "mimetype": "text/x-python",
   "name": "python",
   "nbconvert_exporter": "python",
   "pygments_lexer": "ipython3",
   "version": "3.8.10"
  }
 },
 "nbformat": 4,
 "nbformat_minor": 1
}
